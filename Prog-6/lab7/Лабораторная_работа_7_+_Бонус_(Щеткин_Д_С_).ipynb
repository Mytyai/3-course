{
  "nbformat": 4,
  "nbformat_minor": 0,
  "metadata": {
    "kernelspec": {
      "display_name": "Python 3",
      "name": "python3"
    },
    "language_info": {
      "codemirror_mode": {
        "name": "ipython",
        "version": 3
      },
      "file_extension": ".py",
      "mimetype": "text/x-python",
      "name": "python",
      "nbconvert_exporter": "python",
      "pygments_lexer": "ipython3",
      "version": "3.7.5"
    },
    "name": "lesson11_recsys.ipynb",
    "colab": {
      "provenance": []
    }
  },
  "cells": [
    {
      "cell_type": "markdown",
      "source": [
        "# Лабораторная работа 7\n",
        "# + Бонус\n",
        "## Рекомендательные системы\n",
        "\n",
        "## Выполнил: __Щеткин Дмитрий Сергеевич__\n",
        "\n",
        "группа 2.1"
      ],
      "metadata": {
        "id": "N1AoCHREqtze"
      }
    },
    {
      "cell_type": "code",
      "metadata": {
        "id": "ckjaZ99Bxyoj"
      },
      "source": [
        "import warnings\n",
        "import pprint\n",
        "from math import sqrt\n",
        "import numpy as np\n",
        "\n",
        "warnings.filterwarnings(\"ignore\", category=FutureWarning)\n",
        "pp = pprint.PrettyPrinter(indent=4)"
      ],
      "execution_count": 1,
      "outputs": []
    },
    {
      "cell_type": "code",
      "metadata": {
        "id": "rW47UBSVxyos"
      },
      "source": [
        "# Словарь кинокритиков и выставленных ими оценок\n",
        "critics={'Lisa Rose': {'Lady in the Water': 2.5, 'Snakes on a Plane': 3.5,\n",
        " 'Just My Luck': 3.0, 'Superman Returns': 3.5, 'You, Me and Dupree': 2.5,\n",
        " 'The Night Listener': 3.0},\n",
        "'Gene Seymour': {'Lady in the Water': 3.0, 'Snakes on a Plane': 3.5,\n",
        " 'Just My Luck': 1.5, 'Superman Returns': 5.0, 'The Night Listener': 3.0,\n",
        " 'You, Me and Dupree': 3.5},\n",
        "'Michael Phillips': {'Lady in the Water': 2.5, 'Snakes on a Plane': 3.0,\n",
        " 'Superman Returns': 3.5, 'The Night Listener': 4.0},\n",
        "'Claudia Puig': {'Snakes on a Plane': 3.5, 'Just My Luck': 3.0,\n",
        " 'The Night Listener': 4.5, 'Superman Returns': 4.0,\n",
        " 'You, Me and Dupree': 2.5},\n",
        "'Mick LaSalle': {'Lady in the Water': 3.0, 'Snakes on a Plane': 4.0,\n",
        " 'Just My Luck': 2.0, 'Superman Returns': 3.0, 'The Night Listener': 3.0,\n",
        " 'You, Me and Dupree': 2.0},\n",
        "'Jack Matthews': {'Lady in the Water': 3.0, 'Snakes on a Plane': 4.0,\n",
        " 'The Night Listener': 3.0, 'Superman Returns': 5.0, 'You, Me and Dupree': 3.5},\n",
        "'Toby': {'Snakes on a Plane':4.5,'You, Me and Dupree':1.0,'Superman Returns':4.0}}"
      ],
      "execution_count": 2,
      "outputs": []
    },
    {
      "cell_type": "code",
      "metadata": {
        "id": "PeqIatl7xyov",
        "colab": {
          "base_uri": "https://localhost:8080/"
        },
        "outputId": "81259067-4f07-4d50-f985-e4896a0b6ec5"
      },
      "source": [
        "pp.pprint(critics)"
      ],
      "execution_count": 3,
      "outputs": [
        {
          "output_type": "stream",
          "name": "stdout",
          "text": [
            "{   'Claudia Puig': {   'Just My Luck': 3.0,\n",
            "                        'Snakes on a Plane': 3.5,\n",
            "                        'Superman Returns': 4.0,\n",
            "                        'The Night Listener': 4.5,\n",
            "                        'You, Me and Dupree': 2.5},\n",
            "    'Gene Seymour': {   'Just My Luck': 1.5,\n",
            "                        'Lady in the Water': 3.0,\n",
            "                        'Snakes on a Plane': 3.5,\n",
            "                        'Superman Returns': 5.0,\n",
            "                        'The Night Listener': 3.0,\n",
            "                        'You, Me and Dupree': 3.5},\n",
            "    'Jack Matthews': {   'Lady in the Water': 3.0,\n",
            "                         'Snakes on a Plane': 4.0,\n",
            "                         'Superman Returns': 5.0,\n",
            "                         'The Night Listener': 3.0,\n",
            "                         'You, Me and Dupree': 3.5},\n",
            "    'Lisa Rose': {   'Just My Luck': 3.0,\n",
            "                     'Lady in the Water': 2.5,\n",
            "                     'Snakes on a Plane': 3.5,\n",
            "                     'Superman Returns': 3.5,\n",
            "                     'The Night Listener': 3.0,\n",
            "                     'You, Me and Dupree': 2.5},\n",
            "    'Michael Phillips': {   'Lady in the Water': 2.5,\n",
            "                            'Snakes on a Plane': 3.0,\n",
            "                            'Superman Returns': 3.5,\n",
            "                            'The Night Listener': 4.0},\n",
            "    'Mick LaSalle': {   'Just My Luck': 2.0,\n",
            "                        'Lady in the Water': 3.0,\n",
            "                        'Snakes on a Plane': 4.0,\n",
            "                        'Superman Returns': 3.0,\n",
            "                        'The Night Listener': 3.0,\n",
            "                        'You, Me and Dupree': 2.0},\n",
            "    'Toby': {   'Snakes on a Plane': 4.5,\n",
            "                'Superman Returns': 4.0,\n",
            "                'You, Me and Dupree': 1.0}}\n"
          ]
        }
      ]
    },
    {
      "cell_type": "markdown",
      "metadata": {
        "id": "fhKbiEVUxyo1"
      },
      "source": [
        "**Упражнение.** Выведите оценки, которые выставил Toby"
      ]
    },
    {
      "cell_type": "code",
      "source": [
        "pp.pprint(critics['Toby'])"
      ],
      "metadata": {
        "colab": {
          "base_uri": "https://localhost:8080/"
        },
        "id": "LjNMdAXZr5M2",
        "outputId": "fe46e0f0-9aa2-436f-9798-84bdba6f30e5"
      },
      "execution_count": 4,
      "outputs": [
        {
          "output_type": "stream",
          "name": "stdout",
          "text": [
            "{'Snakes on a Plane': 4.5, 'Superman Returns': 4.0, 'You, Me and Dupree': 1.0}\n"
          ]
        }
      ]
    },
    {
      "cell_type": "markdown",
      "metadata": {
        "id": "m-DbnG-Lxyo4"
      },
      "source": [
        "**Упражнение.** Выведите оценку критика Lisa Rose для фильма Lady in the Water"
      ]
    },
    {
      "cell_type": "code",
      "metadata": {
        "id": "_e4_I81Vxyo5",
        "colab": {
          "base_uri": "https://localhost:8080/"
        },
        "outputId": "b50b5b53-7c0e-431f-ca22-980c3a6bb921"
      },
      "source": [
        "pp.pprint(critics['Lisa Rose']['Lady in the Water'])"
      ],
      "execution_count": 5,
      "outputs": [
        {
          "output_type": "stream",
          "name": "stdout",
          "text": [
            "2.5\n"
          ]
        }
      ]
    },
    {
      "cell_type": "markdown",
      "metadata": {
        "id": "z9WNha1hvmhb"
      },
      "source": [
        "**Упражнение.**  Реализуйте функцию для вычисления расстояния Евклида"
      ]
    },
    {
      "cell_type": "code",
      "metadata": {
        "id": "M8PyCnouvp-G"
      },
      "source": [
        "def compute_euclid(x, y):\n",
        "    squared_diffs = [(xi - yi)**2 for xi, yi in zip(x, y)]\n",
        "    result = sqrt(sum(squared_diffs))\n",
        "    return result"
      ],
      "execution_count": 6,
      "outputs": []
    },
    {
      "cell_type": "code",
      "metadata": {
        "id": "1BJV1H73xypD",
        "colab": {
          "base_uri": "https://localhost:8080/"
        },
        "outputId": "bc3fee79-b59d-404c-b793-765739a8783f"
      },
      "source": [
        "compute_euclid([1, 1], [2, 3])\n",
        "# должно получиться:  2.23606797749979"
      ],
      "execution_count": 7,
      "outputs": [
        {
          "output_type": "execute_result",
          "data": {
            "text/plain": [
              "2.23606797749979"
            ]
          },
          "metadata": {},
          "execution_count": 7
        }
      ]
    },
    {
      "cell_type": "code",
      "metadata": {
        "id": "oS5NfMNHxypJ",
        "colab": {
          "base_uri": "https://localhost:8080/"
        },
        "outputId": "73c74b4d-79de-4366-af32-98caa1d3f6d9"
      },
      "source": [
        "compute_euclid([1, 1], [8, 10])\n",
        "# должно получиться: 11.40175425099138"
      ],
      "execution_count": 8,
      "outputs": [
        {
          "output_type": "execute_result",
          "data": {
            "text/plain": [
              "11.40175425099138"
            ]
          },
          "metadata": {},
          "execution_count": 8
        }
      ]
    },
    {
      "cell_type": "code",
      "metadata": {
        "id": "NthnN2f3xypN",
        "colab": {
          "base_uri": "https://localhost:8080/"
        },
        "outputId": "f6a805b1-4c17-41e2-d3c3-3ae1c1c83130"
      },
      "source": [
        "1 / (1 + compute_euclid([1, 1], [2, 3]))\n",
        "# Должно получиться 0.309016"
      ],
      "execution_count": 9,
      "outputs": [
        {
          "output_type": "execute_result",
          "data": {
            "text/plain": [
              "0.3090169943749474"
            ]
          },
          "metadata": {},
          "execution_count": 9
        }
      ]
    },
    {
      "cell_type": "code",
      "metadata": {
        "id": "UODSjEYaxypQ",
        "colab": {
          "base_uri": "https://localhost:8080/"
        },
        "outputId": "d1ad3594-1b3b-4f6d-a832-d3fdb2ddeeb7"
      },
      "source": [
        "1 / (1 + compute_euclid([1, 1], [8, 10]))\n",
        "# Должно получиться: 0.08063375388365411"
      ],
      "execution_count": 10,
      "outputs": [
        {
          "output_type": "execute_result",
          "data": {
            "text/plain": [
              "0.08063375388365411"
            ]
          },
          "metadata": {},
          "execution_count": 10
        }
      ]
    },
    {
      "cell_type": "code",
      "metadata": {
        "id": "2Fu2HzsZ9KF3"
      },
      "source": [
        "%%capture\n",
        "!wget https://www.dropbox.com/s/udwga4a1tohd99b/recommendations.py"
      ],
      "execution_count": 11,
      "outputs": []
    },
    {
      "cell_type": "code",
      "metadata": {
        "id": "Vzx4ZVoxxypU"
      },
      "source": [
        "from recommendations import *"
      ],
      "execution_count": 12,
      "outputs": []
    },
    {
      "cell_type": "code",
      "metadata": {
        "id": "Dol4H8AgxypZ",
        "colab": {
          "base_uri": "https://localhost:8080/"
        },
        "outputId": "73129bde-e3fd-4f50-c7f4-ae3a2d6232a5"
      },
      "source": [
        "sim_distance(critics, 'Lisa Rose', 'Toby')"
      ],
      "execution_count": 13,
      "outputs": [
        {
          "output_type": "execute_result",
          "data": {
            "text/plain": [
              "0.2222222222222222"
            ]
          },
          "metadata": {},
          "execution_count": 13
        }
      ]
    },
    {
      "cell_type": "markdown",
      "source": [
        "**Упражнение.**  Реализуйте функцию для вычисления расстояния sim_distance для двух критиков: \"Mick LaSalle\" и \"Gene Seymour\""
      ],
      "metadata": {
        "id": "OYHDbjbobCyv"
      }
    },
    {
      "cell_type": "code",
      "source": [
        "sim_distance(critics, 'Mick LaSalle', 'Gene Seymour')\n",
        "# Должно получиться 0.12903"
      ],
      "metadata": {
        "id": "66nuxydkbh_o",
        "colab": {
          "base_uri": "https://localhost:8080/"
        },
        "outputId": "e2d21143-6c13-4434-bd09-7dbc58d58e20"
      },
      "execution_count": 14,
      "outputs": [
        {
          "output_type": "execute_result",
          "data": {
            "text/plain": [
              "0.12903225806451613"
            ]
          },
          "metadata": {},
          "execution_count": 14
        }
      ]
    },
    {
      "cell_type": "code",
      "metadata": {
        "id": "XBZxMyLAv7OU"
      },
      "source": [
        "def pearson_corr(x, y):\n",
        "    n = len(x)\n",
        "    mean_x = np.mean(x)\n",
        "    mean_y = np.mean(y)\n",
        "\n",
        "    numerator = sum((xi - mean_x)*(yi - mean_y) for xi, yi in zip(x, y))\n",
        "\n",
        "    denominator = np.sqrt(sum((xi - mean_x)**2 for xi in x)) * np.sqrt(sum((yi - mean_y)**2 for yi in y))\n",
        "\n",
        "    result = numerator / denominator\n",
        "    return result"
      ],
      "execution_count": 15,
      "outputs": []
    },
    {
      "cell_type": "code",
      "metadata": {
        "id": "w-0G2kHBv_sM",
        "colab": {
          "base_uri": "https://localhost:8080/"
        },
        "outputId": "fe84d47d-2c91-4f4f-a44e-62281eccde78"
      },
      "source": [
        "x = []\n",
        "y = []\n",
        "for film in critics['Lisa Rose']:\n",
        "    x.append(critics['Lisa Rose'][film])\n",
        "    y.append(critics['Gene Seymour'][film])\n",
        "\n",
        "print(pearson_corr(x, y)) # должно быть: 0.39605901719066977"
      ],
      "execution_count": 16,
      "outputs": [
        {
          "output_type": "stream",
          "name": "stdout",
          "text": [
            "0.39605901719066977\n"
          ]
        }
      ]
    },
    {
      "cell_type": "code",
      "metadata": {
        "id": "V4quusN2xypl",
        "colab": {
          "base_uri": "https://localhost:8080/"
        },
        "outputId": "c20eb65b-f3a5-434c-a1be-cef2cb3fff72"
      },
      "source": [
        "sim_pearson(critics, 'Lisa Rose', 'Gene Seymour')"
      ],
      "execution_count": 17,
      "outputs": [
        {
          "output_type": "execute_result",
          "data": {
            "text/plain": [
              "np.float64(0.3960590171906697)"
            ]
          },
          "metadata": {},
          "execution_count": 17
        }
      ]
    },
    {
      "cell_type": "markdown",
      "source": [
        "**Упражнение.**  Найдите в модуле scipy как вычисляется корреляция Пирсона и получите аналогичное значение (0.3960590171906697) как и с помощью вручную написанной функции."
      ],
      "metadata": {
        "id": "8Bo2Qo2JcgtF"
      }
    },
    {
      "cell_type": "code",
      "source": [
        "from scipy.stats import pearsonr\n",
        "\n",
        "common_movies = set(critics['Lisa Rose'].keys()) & set(critics['Gene Seymour'].keys())\n",
        "lisa_ratings = [critics['Lisa Rose'][movie] for movie in common_movies]\n",
        "gene_ratings = [critics['Gene Seymour'][movie] for movie in common_movies]\n",
        "\n",
        "corr_coefficient, _ = pearsonr(lisa_ratings, gene_ratings)\n",
        "print(corr_coefficient)"
      ],
      "metadata": {
        "id": "0ntmYl4GrIm7",
        "colab": {
          "base_uri": "https://localhost:8080/"
        },
        "outputId": "dbedf37d-9be1-474b-ae65-d8c644b99a67"
      },
      "execution_count": 18,
      "outputs": [
        {
          "output_type": "stream",
          "name": "stdout",
          "text": [
            "0.39605901719066977\n"
          ]
        }
      ]
    },
    {
      "cell_type": "code",
      "metadata": {
        "id": "CM0WA6yBxypq",
        "colab": {
          "base_uri": "https://localhost:8080/"
        },
        "outputId": "983acf1b-0435-4cc6-89c5-89312dab3467"
      },
      "source": [
        "topMatches(critics, 'Toby', n=3, similarity=sim_pearson)"
      ],
      "execution_count": 19,
      "outputs": [
        {
          "output_type": "execute_result",
          "data": {
            "text/plain": [
              "[(np.float64(0.9912407071619302), 'Lisa Rose'),\n",
              " (np.float64(0.924473451641905), 'Mick LaSalle'),\n",
              " (np.float64(0.8934051474415643), 'Claudia Puig')]"
            ]
          },
          "metadata": {},
          "execution_count": 19
        }
      ]
    },
    {
      "cell_type": "markdown",
      "metadata": {
        "id": "a6zrN8IRxypt"
      },
      "source": [
        "**Упражнение.** Вычислите топ-3 критиков похожих на Toby по евклидову расстоянию (sim_distance):"
      ]
    },
    {
      "cell_type": "code",
      "metadata": {
        "id": "63IHuLZSxypu",
        "colab": {
          "base_uri": "https://localhost:8080/"
        },
        "outputId": "8a7c1aa9-90d3-4fd0-e1ad-79267c179c4c"
      },
      "source": [
        "similarities = []\n",
        "for critic in critics.keys():\n",
        "    if critic != 'Toby':\n",
        "        similarities.append((sim_distance(critics, 'Toby', critic), critic))\n",
        "\n",
        "top_3_matches = sorted(similarities, reverse=True)[:3]\n",
        "\n",
        "for match in top_3_matches:\n",
        "    print(match)"
      ],
      "execution_count": 20,
      "outputs": [
        {
          "output_type": "stream",
          "name": "stdout",
          "text": [
            "(0.3076923076923077, 'Mick LaSalle')\n",
            "(0.2857142857142857, 'Michael Phillips')\n",
            "(0.23529411764705882, 'Claudia Puig')\n"
          ]
        }
      ]
    },
    {
      "cell_type": "markdown",
      "metadata": {
        "id": "pR4A_2uLxyp9"
      },
      "source": [
        "**Упражнение.** Вычислите рекомендации для ```Toby``` с использованием ```sim_distance``` в качестве функции-критерия для сравнения:"
      ]
    },
    {
      "cell_type": "code",
      "metadata": {
        "id": "H8LpwS_Xxyp9",
        "colab": {
          "base_uri": "https://localhost:8080/"
        },
        "outputId": "a744345e-88ca-4a87-e76a-c9aca2315750"
      },
      "source": [
        "getRecommendations(critics, 'Toby', sim_distance)"
      ],
      "execution_count": 21,
      "outputs": [
        {
          "output_type": "execute_result",
          "data": {
            "text/plain": [
              "[(3.5002478401415877, 'The Night Listener'),\n",
              " (2.7561242939959363, 'Lady in the Water'),\n",
              " (2.461988486074374, 'Just My Luck')]"
            ]
          },
          "metadata": {},
          "execution_count": 21
        }
      ]
    },
    {
      "cell_type": "code",
      "metadata": {
        "id": "mcnJJQ9cxyqG"
      },
      "source": [
        "itemsim = calculateSimilarItems(critics, n = 5)"
      ],
      "execution_count": 22,
      "outputs": []
    },
    {
      "cell_type": "code",
      "metadata": {
        "id": "PwUnCFgqxyqJ",
        "colab": {
          "base_uri": "https://localhost:8080/"
        },
        "outputId": "6cb30d71-7ecc-4211-ff9f-c8bfe5617059"
      },
      "source": [
        "pp.pprint(itemsim)"
      ],
      "execution_count": 23,
      "outputs": [
        {
          "output_type": "stream",
          "name": "stdout",
          "text": [
            "{   'Just My Luck': [   (0.2222222222222222, 'Lady in the Water'),\n",
            "                        (0.18181818181818182, 'You, Me and Dupree'),\n",
            "                        (0.15384615384615385, 'The Night Listener'),\n",
            "                        (0.10526315789473684, 'Snakes on a Plane'),\n",
            "                        (0.06451612903225806, 'Superman Returns')],\n",
            "    'Lady in the Water': [   (0.4, 'You, Me and Dupree'),\n",
            "                             (0.2857142857142857, 'The Night Listener'),\n",
            "                             (0.2222222222222222, 'Snakes on a Plane'),\n",
            "                             (0.2222222222222222, 'Just My Luck'),\n",
            "                             (0.09090909090909091, 'Superman Returns')],\n",
            "    'Snakes on a Plane': [   (0.2222222222222222, 'Lady in the Water'),\n",
            "                             (0.18181818181818182, 'The Night Listener'),\n",
            "                             (0.16666666666666666, 'Superman Returns'),\n",
            "                             (0.10526315789473684, 'Just My Luck'),\n",
            "                             (0.05128205128205128, 'You, Me and Dupree')],\n",
            "    'Superman Returns': [   (0.16666666666666666, 'Snakes on a Plane'),\n",
            "                            (0.10256410256410256, 'The Night Listener'),\n",
            "                            (0.09090909090909091, 'Lady in the Water'),\n",
            "                            (0.06451612903225806, 'Just My Luck'),\n",
            "                            (0.05333333333333334, 'You, Me and Dupree')],\n",
            "    'The Night Listener': [   (0.2857142857142857, 'Lady in the Water'),\n",
            "                              (0.18181818181818182, 'Snakes on a Plane'),\n",
            "                              (0.15384615384615385, 'Just My Luck'),\n",
            "                              (0.14814814814814814, 'You, Me and Dupree'),\n",
            "                              (0.10256410256410256, 'Superman Returns')],\n",
            "    'You, Me and Dupree': [   (0.4, 'Lady in the Water'),\n",
            "                              (0.18181818181818182, 'Just My Luck'),\n",
            "                              (0.14814814814814814, 'The Night Listener'),\n",
            "                              (0.05333333333333334, 'Superman Returns'),\n",
            "                              (0.05128205128205128, 'Snakes on a Plane')]}\n"
          ]
        }
      ]
    },
    {
      "cell_type": "markdown",
      "metadata": {
        "id": "JaUsLOhqxyqP"
      },
      "source": [
        "**Упражнение.** Получите список рекомендованных фильмов, используя данные о схожести ```itemsim``` и критика ```Toby```:"
      ]
    },
    {
      "cell_type": "code",
      "metadata": {
        "id": "bC-V0ovMxyqQ",
        "colab": {
          "base_uri": "https://localhost:8080/"
        },
        "outputId": "90191382-b4a4-4f9d-a0e5-b1cc415151c0"
      },
      "source": [
        "getRecommendedItems(critics, itemsim, 'Toby')"
      ],
      "execution_count": 24,
      "outputs": [
        {
          "output_type": "execute_result",
          "data": {
            "text/plain": [
              "[(3.182634730538922, 'The Night Listener'),\n",
              " (2.5983318700614575, 'Just My Luck'),\n",
              " (2.4730878186968837, 'Lady in the Water')]"
            ]
          },
          "metadata": {},
          "execution_count": 24
        }
      ]
    },
    {
      "cell_type": "markdown",
      "metadata": {
        "id": "d69KOo96xyqb"
      },
      "source": [
        "**Упражнение.** Получите с помощью функции `getRecommendations` для критика Toby с помощью функции `sim_pearson` список рекомендаций:"
      ]
    },
    {
      "cell_type": "code",
      "metadata": {
        "id": "LjqvONZLxyqe",
        "colab": {
          "base_uri": "https://localhost:8080/"
        },
        "outputId": "87b6a5ca-a5ec-4d41-ad7a-711df5327d8f"
      },
      "source": [
        "getRecommendations(critics, 'Toby', sim_pearson)"
      ],
      "execution_count": 25,
      "outputs": [
        {
          "output_type": "execute_result",
          "data": {
            "text/plain": [
              "[(np.float64(3.347789526713101), 'The Night Listener'),\n",
              " (np.float64(2.832549918264161), 'Lady in the Water'),\n",
              " (np.float64(2.5309807037655645), 'Just My Luck')]"
            ]
          },
          "metadata": {},
          "execution_count": 25
        }
      ]
    },
    {
      "cell_type": "markdown",
      "metadata": {
        "id": "RXDUM0i_xyqk"
      },
      "source": [
        "## Бонус* : Рекомендация на данных MovieLens"
      ]
    },
    {
      "cell_type": "code",
      "metadata": {
        "id": "kbg3tMJb_LUE"
      },
      "source": [
        "%%capture\n",
        "!wget https://www.dropbox.com/sh/ob1qyfzqygkc6ph/AADg2G0By0EuRZCLR5gSAmP7a"
      ],
      "execution_count": 26,
      "outputs": []
    },
    {
      "cell_type": "code",
      "metadata": {
        "id": "rVL7IRU3_i58"
      },
      "source": [
        "%%capture\n",
        "!unzip AADg2G0By0EuRZCLR5gSAmP7a -d data"
      ],
      "execution_count": 27,
      "outputs": []
    },
    {
      "cell_type": "code",
      "metadata": {
        "id": "TokySpKUxyqp"
      },
      "source": [
        "preferences = loadMovieLens()"
      ],
      "execution_count": 28,
      "outputs": []
    },
    {
      "cell_type": "code",
      "metadata": {
        "id": "i45AlAQVxyqs",
        "colab": {
          "base_uri": "https://localhost:8080/"
        },
        "outputId": "2aa07435-4a31-45f3-8eba-ed3c220c216a"
      },
      "source": [
        "pp.pprint(preferences['87'])"
      ],
      "execution_count": 29,
      "outputs": [
        {
          "output_type": "stream",
          "name": "stdout",
          "text": [
            "{   '2001: A Space Odyssey (1968)': 5.0,\n",
            "    'Ace Ventura: Pet Detective (1994)': 4.0,\n",
            "    'Addams Family Values (1993)': 2.0,\n",
            "    'Addicted to Love (1997)': 4.0,\n",
            "    'Adventures of Priscilla, Queen of the Desert, The (1994)': 3.0,\n",
            "    'Adventures of Robin Hood, The (1938)': 5.0,\n",
            "    'Air Force One (1997)': 3.0,\n",
            "    'Air Up There, The (1994)': 3.0,\n",
            "    'Alien (1979)': 4.0,\n",
            "    'American President, The (1995)': 5.0,\n",
            "    'Annie Hall (1977)': 4.0,\n",
            "    'Apocalypse Now (1979)': 4.0,\n",
            "    'Babe (1995)': 5.0,\n",
            "    'Baby-Sitters Club, The (1995)': 2.0,\n",
            "    'Back to the Future (1985)': 5.0,\n",
            "    'Bad Boys (1995)': 4.0,\n",
            "    'Bananas (1971)': 5.0,\n",
            "    'Barcelona (1994)': 3.0,\n",
            "    'Batman & Robin (1997)': 4.0,\n",
            "    'Batman (1989)': 3.0,\n",
            "    'Batman Returns (1992)': 3.0,\n",
            "    'Big Green, The (1995)': 3.0,\n",
            "    'Big Squeeze, The (1996)': 2.0,\n",
            "    'Birdcage, The (1996)': 4.0,\n",
            "    'Blade Runner (1982)': 4.0,\n",
            "    'Blues Brothers, The (1980)': 5.0,\n",
            "    'Boomerang (1992)': 3.0,\n",
            "    'Boot, Das (1981)': 4.0,\n",
            "    'Brady Bunch Movie, The (1995)': 2.0,\n",
            "    'Braveheart (1995)': 4.0,\n",
            "    'Bridge on the River Kwai, The (1957)': 5.0,\n",
            "    'Broken Arrow (1996)': 3.0,\n",
            "    'Butch Cassidy and the Sundance Kid (1969)': 5.0,\n",
            "    'Citizen Kane (1941)': 4.0,\n",
            "    \"City Slickers II: The Legend of Curly's Gold (1994)\": 3.0,\n",
            "    'Clear and Present Danger (1994)': 5.0,\n",
            "    'Cliffhanger (1993)': 3.0,\n",
            "    'Clockwork Orange, A (1971)': 4.0,\n",
            "    'Clueless (1995)': 4.0,\n",
            "    'Con Air (1997)': 4.0,\n",
            "    'Conan the Barbarian (1981)': 3.0,\n",
            "    'Coneheads (1993)': 4.0,\n",
            "    'Cool Hand Luke (1967)': 5.0,\n",
            "    'Cops and Robbersons (1994)': 3.0,\n",
            "    'Cowboy Way, The (1994)': 3.0,\n",
            "    'Crow, The (1994)': 3.0,\n",
            "    'Dances with Wolves (1990)': 5.0,\n",
            "    \"Dante's Peak (1997)\": 3.0,\n",
            "    'Dave (1993)': 4.0,\n",
            "    'Days of Thunder (1990)': 5.0,\n",
            "    'Dead Man Walking (1995)': 4.0,\n",
            "    'Dead Poets Society (1989)': 5.0,\n",
            "    'Deer Hunter, The (1978)': 3.0,\n",
            "    'Demolition Man (1993)': 3.0,\n",
            "    'Desperado (1995)': 3.0,\n",
            "    'Die Hard (1988)': 4.0,\n",
            "    'Die Hard: With a Vengeance (1995)': 4.0,\n",
            "    'Down Periscope (1996)': 4.0,\n",
            "    'Dragonheart (1996)': 4.0,\n",
            "    'Dumb & Dumber (1994)': 4.0,\n",
            "    'Dunston Checks In (1996)': 1.0,\n",
            "    'E.T. the Extra-Terrestrial (1982)': 3.0,\n",
            "    'Ed Wood (1994)': 3.0,\n",
            "    'Empire Strikes Back, The (1980)': 5.0,\n",
            "    'Endless Summer 2, The (1994)': 3.0,\n",
            "    'Evil Dead II (1987)': 2.0,\n",
            "    'Executive Decision (1996)': 3.0,\n",
            "    'Fargo (1996)': 5.0,\n",
            "    'First Wives Club, The (1996)': 2.0,\n",
            "    'Fish Called Wanda, A (1988)': 5.0,\n",
            "    'Forget Paris (1995)': 4.0,\n",
            "    'Four Weddings and a Funeral (1994)': 5.0,\n",
            "    'French Kiss (1995)': 5.0,\n",
            "    'Fugitive, The (1993)': 5.0,\n",
            "    'Full Metal Jacket (1987)': 4.0,\n",
            "    'Get Shorty (1995)': 5.0,\n",
            "    'Glory (1989)': 4.0,\n",
            "    'Godfather, The (1972)': 4.0,\n",
            "    'GoldenEye (1995)': 4.0,\n",
            "    'Good, The Bad and The Ugly, The (1966)': 5.0,\n",
            "    'GoodFellas (1990)': 4.0,\n",
            "    'Grease (1978)': 4.0,\n",
            "    'Great White Hype, The (1996)': 3.0,\n",
            "    'Groundhog Day (1993)': 5.0,\n",
            "    'Grumpier Old Men (1995)': 4.0,\n",
            "    'Hard Target (1993)': 4.0,\n",
            "    'Heat (1995)': 3.0,\n",
            "    'Heathers (1989)': 3.0,\n",
            "    'Home Alone (1990)': 4.0,\n",
            "    'Hoop Dreams (1994)': 4.0,\n",
            "    'Hot Shots! Part Deux (1993)': 4.0,\n",
            "    'House Arrest (1996)': 3.0,\n",
            "    'I Love Trouble (1994)': 3.0,\n",
            "    'I.Q. (1994)': 5.0,\n",
            "    'In the Army Now (1994)': 4.0,\n",
            "    'In the Line of Fire (1993)': 5.0,\n",
            "    'Independence Day (ID4) (1996)': 5.0,\n",
            "    'Indiana Jones and the Last Crusade (1989)': 5.0,\n",
            "    'Inkwell, The (1994)': 3.0,\n",
            "    \"It's a Wonderful Life (1946)\": 5.0,\n",
            "    'Jack (1996)': 3.0,\n",
            "    'Jeffrey (1995)': 3.0,\n",
            "    'Jimmy Hollywood (1994)': 3.0,\n",
            "    \"Joe's Apartment (1996)\": 2.0,\n",
            "    'Junior (1994)': 4.0,\n",
            "    'Jurassic Park (1993)': 5.0,\n",
            "    'Kingpin (1996)': 4.0,\n",
            "    'Lightning Jack (1994)': 3.0,\n",
            "    'Lost World: Jurassic Park, The (1997)': 3.0,\n",
            "    'Low Down Dirty Shame, A (1994)': 3.0,\n",
            "    'M*A*S*H (1970)': 5.0,\n",
            "    'Magnificent Seven, The (1954)': 5.0,\n",
            "    'Major Payne (1994)': 3.0,\n",
            "    'Man of the House (1995)': 3.0,\n",
            "    'Manchurian Candidate, The (1962)': 4.0,\n",
            "    'Mars Attacks! (1996)': 3.0,\n",
            "    'Mask, The (1994)': 3.0,\n",
            "    'Matilda (1996)': 3.0,\n",
            "    'Maverick (1994)': 3.0,\n",
            "    'Michael (1996)': 4.0,\n",
            "    'Mighty Aphrodite (1995)': 3.0,\n",
            "    'Milk Money (1994)': 4.0,\n",
            "    'Mission: Impossible (1996)': 4.0,\n",
            "    \"Monty Python's Life of Brian (1979)\": 4.0,\n",
            "    'Mother (1996)': 2.0,\n",
            "    'Mrs. Doubtfire (1993)': 4.0,\n",
            "    'Multiplicity (1996)': 3.0,\n",
            "    'Muppet Treasure Island (1996)': 3.0,\n",
            "    'My Favorite Year (1982)': 3.0,\n",
            "    'Naked Gun 33 1/3: The Final Insult (1994)': 4.0,\n",
            "    'Net, The (1995)': 5.0,\n",
            "    'Nine Months (1995)': 4.0,\n",
            "    'Nutty Professor, The (1996)': 4.0,\n",
            "    'Platoon (1986)': 3.0,\n",
            "    'Prefontaine (1997)': 5.0,\n",
            "    'Private Benjamin (1980)': 4.0,\n",
            "    'Professional, The (1994)': 4.0,\n",
            "    'Program, The (1993)': 3.0,\n",
            "    'Pulp Fiction (1994)': 4.0,\n",
            "    \"Pyromaniac's Love Story, A (1995)\": 3.0,\n",
            "    'Quiet Man, The (1952)': 5.0,\n",
            "    'Raging Bull (1980)': 3.0,\n",
            "    'Raiders of the Lost Ark (1981)': 5.0,\n",
            "    'Raising Arizona (1987)': 3.0,\n",
            "    'Reality Bites (1994)': 3.0,\n",
            "    'Renaissance Man (1994)': 5.0,\n",
            "    'Return of the Jedi (1983)': 5.0,\n",
            "    'Return of the Pink Panther, The (1974)': 4.0,\n",
            "    'River Wild, The (1994)': 4.0,\n",
            "    'Sabrina (1995)': 4.0,\n",
            "    'Santa Clause, The (1994)': 4.0,\n",
            "    \"Schindler's List (1993)\": 4.0,\n",
            "    'Searching for Bobby Fischer (1993)': 4.0,\n",
            "    'Serial Mom (1994)': 1.0,\n",
            "    'Shadow, The (1994)': 3.0,\n",
            "    'Shawshank Redemption, The (1994)': 5.0,\n",
            "    \"Singin' in the Rain (1952)\": 4.0,\n",
            "    'Sleeper (1973)': 4.0,\n",
            "    'Sleepers (1996)': 4.0,\n",
            "    'Sleepless in Seattle (1993)': 5.0,\n",
            "    'Sneakers (1992)': 4.0,\n",
            "    'So I Married an Axe Murderer (1993)': 2.0,\n",
            "    'Something to Talk About (1995)': 2.0,\n",
            "    'Son in Law (1993)': 4.0,\n",
            "    'Speechless (1994)': 4.0,\n",
            "    'Speed (1994)': 5.0,\n",
            "    'Speed 2: Cruise Control (1997)': 3.0,\n",
            "    'Star Trek III: The Search for Spock (1984)': 4.0,\n",
            "    'Star Trek IV: The Voyage Home (1986)': 5.0,\n",
            "    'Star Trek: First Contact (1996)': 4.0,\n",
            "    'Star Trek: The Motion Picture (1979)': 3.0,\n",
            "    'Star Trek: The Wrath of Khan (1982)': 5.0,\n",
            "    'Star Wars (1977)': 5.0,\n",
            "    'Stargate (1994)': 5.0,\n",
            "    'Sting, The (1973)': 5.0,\n",
            "    'Strange Days (1995)': 3.0,\n",
            "    'Strictly Ballroom (1992)': 3.0,\n",
            "    'Striptease (1996)': 2.0,\n",
            "    'Supercop (1992)': 3.0,\n",
            "    'Swimming with Sharks (1995)': 3.0,\n",
            "    'Switchblade Sisters (1975)': 2.0,\n",
            "    'Terminator 2: Judgment Day (1991)': 5.0,\n",
            "    'Terminator, The (1984)': 5.0,\n",
            "    'That Old Feeling (1997)': 4.0,\n",
            "    'That Thing You Do! (1996)': 4.0,\n",
            "    'This Is Spinal Tap (1984)': 5.0,\n",
            "    'To Die For (1995)': 3.0,\n",
            "    'To Kill a Mockingbird (1962)': 4.0,\n",
            "    'To Wong Foo, Thanks for Everything! Julie Newmar (1995)': 3.0,\n",
            "    'Tommy Boy (1995)': 4.0,\n",
            "    'Top Gun (1986)': 5.0,\n",
            "    'Treasure of the Sierra Madre, The (1948)': 4.0,\n",
            "    'True Lies (1994)': 5.0,\n",
            "    'Truth About Cats & Dogs, The (1996)': 4.0,\n",
            "    'Twelve Monkeys (1995)': 4.0,\n",
            "    'Twister (1996)': 4.0,\n",
            "    \"Ulee's Gold (1997)\": 3.0,\n",
            "    'Under Siege (1992)': 4.0,\n",
            "    'Up in Smoke (1978)': 3.0,\n",
            "    'Vegas Vacation (1997)': 4.0,\n",
            "    'Victor/Victoria (1982)': 4.0,\n",
            "    'Waterworld (1995)': 4.0,\n",
            "    \"Weekend at Bernie's (1989)\": 3.0,\n",
            "    'When Harry Met Sally... (1989)': 5.0,\n",
            "    'While You Were Sleeping (1995)': 5.0,\n",
            "    'Wizard of Oz, The (1939)': 5.0,\n",
            "    'Wyatt Earp (1994)': 3.0,\n",
            "    'Young Frankenstein (1974)': 5.0,\n",
            "    'Young Guns (1988)': 3.0,\n",
            "    'Young Guns II (1990)': 2.0}\n"
          ]
        }
      ]
    },
    {
      "cell_type": "code",
      "metadata": {
        "scrolled": true,
        "id": "NO_XTe8vxyqw",
        "colab": {
          "base_uri": "https://localhost:8080/"
        },
        "outputId": "5aa68db9-b236-4bc6-d94a-99d11d8d1d90"
      },
      "source": [
        "getRecommendations(preferences, '87')[0:30]"
      ],
      "execution_count": 30,
      "outputs": [
        {
          "output_type": "stream",
          "name": "stderr",
          "text": [
            "/content/recommendations.py:58: ConstantInputWarning: An input array is constant; the correlation coefficient is not defined.\n",
            "  r = pearsonr(scores1, scores2)[0]\n"
          ]
        },
        {
          "output_type": "execute_result",
          "data": {
            "text/plain": [
              "[(np.float64(5.0), 'They Made Me a Criminal (1939)'),\n",
              " (np.float64(5.0), 'Star Kid (1997)'),\n",
              " (np.float64(5.0), 'Santa with Muscles (1996)'),\n",
              " (np.float64(5.0), 'Saint of Fort Washington, The (1993)'),\n",
              " (np.float64(5.0), 'Marlene Dietrich: Shadow and Light (1996) '),\n",
              " (np.float64(5.0), 'Great Day in Harlem, A (1994)'),\n",
              " (np.float64(5.0), 'Entertaining Angels: The Dorothy Day Story (1996)'),\n",
              " (np.float64(5.0), 'Boys, Les (1997)'),\n",
              " (np.float64(4.898844431289231), 'Legal Deceit (1997)'),\n",
              " (np.float64(4.815019082242706), 'Letter From Death Row, A (1998)'),\n",
              " (np.float64(4.732108298394142), 'Hearts and Minds (1996)'),\n",
              " (np.float64(4.6962444664908665), 'Pather Panchali (1955)'),\n",
              " (np.float64(4.652397061026759), 'Lamerica (1994)'),\n",
              " (np.float64(4.538723693474812), 'Leading Man, The (1996)'),\n",
              " (np.float64(4.535081339106105), 'Mrs. Dalloway (1997)'),\n",
              " (np.float64(4.532337612572983), 'Innocents, The (1961)'),\n",
              " (np.float64(4.527998574747079), 'Casablanca (1942)'),\n",
              " (np.float64(4.5102701497198625), 'Everest (1998)'),\n",
              " (np.float64(4.493967755428439), 'Dangerous Beauty (1998)'),\n",
              " (np.float64(4.485151301801342),\n",
              "  'Wallace & Gromit: The Best of Aardman Animation (1996)'),\n",
              " (np.float64(4.463287461290223), 'Wrong Trousers, The (1993)'),\n",
              " (np.float64(4.450979436941034), 'Kaspar Hauser (1993)'),\n",
              " (np.float64(4.431079071179517), 'Usual Suspects, The (1995)'),\n",
              " (np.float64(4.427520682864959), 'Maya Lin: A Strong Clear Vision (1994)'),\n",
              " (np.float64(4.414870784592075), 'Wedding Gift, The (1994)'),\n",
              " (np.float64(4.377445252656464), 'Affair to Remember, An (1957)'),\n",
              " (np.float64(4.376071110447771), 'Good Will Hunting (1997)'),\n",
              " (np.float64(4.376011099001396), 'As Good As It Gets (1997)'),\n",
              " (np.float64(4.374146179500975), 'Anna (1996)'),\n",
              " (np.float64(4.367437266504596), 'Close Shave, A (1995)')]"
            ]
          },
          "metadata": {},
          "execution_count": 30
        }
      ]
    },
    {
      "cell_type": "code",
      "metadata": {
        "id": "NQgL2SBBxyqz",
        "colab": {
          "base_uri": "https://localhost:8080/"
        },
        "outputId": "376674cf-dda5-41ef-8b98-9a9c2c2f4b10"
      },
      "source": [
        "item_similarities = calculateSimilarItems(preferences, n = 50)"
      ],
      "execution_count": 31,
      "outputs": [
        {
          "output_type": "stream",
          "name": "stdout",
          "text": [
            "100 / 1664\n",
            "200 / 1664\n",
            "300 / 1664\n",
            "400 / 1664\n",
            "500 / 1664\n",
            "600 / 1664\n",
            "700 / 1664\n",
            "800 / 1664\n",
            "900 / 1664\n",
            "1000 / 1664\n",
            "1100 / 1664\n",
            "1200 / 1664\n",
            "1300 / 1664\n",
            "1400 / 1664\n",
            "1500 / 1664\n",
            "1600 / 1664\n"
          ]
        }
      ]
    },
    {
      "cell_type": "code",
      "metadata": {
        "scrolled": true,
        "id": "Unfusl__xyq2",
        "colab": {
          "base_uri": "https://localhost:8080/"
        },
        "outputId": "47fe1ade-7009-44cd-e1f1-205a2ffea688"
      },
      "source": [
        "item_similarities[\"What's Eating Gilbert Grape (1993)\"]"
      ],
      "execution_count": 32,
      "outputs": [
        {
          "output_type": "execute_result",
          "data": {
            "text/plain": [
              "[(1.0, 'Yankee Zulu (1994)'),\n",
              " (1.0, 'Woman in Question, The (1950)'),\n",
              " (1.0, 'Witness (1985)'),\n",
              " (1.0, \"Wend Kuuni (God's Gift) (1982)\"),\n",
              " (1.0, 'Vie est belle, La (Life is Rosey) (1987)'),\n",
              " (1.0, 'Vermont Is For Lovers (1992)'),\n",
              " (1.0, 'Van, The (1996)'),\n",
              " (1.0, 'Two or Three Things I Know About Her (1966)'),\n",
              " (1.0, 'Two Much (1996)'),\n",
              " (1.0, 'Two Deaths (1995)'),\n",
              " (1.0, 'Two Bits (1995)'),\n",
              " (1.0, 'Touki Bouki (Journey of the Hyena) (1973)'),\n",
              " (1.0, 'Total Eclipse (1995)'),\n",
              " (1.0, 'To Have, or Not (1995)'),\n",
              " (1.0, 'To Cross the Rubicon (1991)'),\n",
              " (1.0, 'Tigrero: A Film That Was Never Made (1994)'),\n",
              " (1.0, 'The Courtyard (1995)'),\n",
              " (1.0, 'Terror in a Texas Town (1958)'),\n",
              " (1.0, 'Talking About Sex (1994)'),\n",
              " (1.0, 'T-Men (1947)'),\n",
              " (1.0, 'Symphonie pastorale, La (1946)'),\n",
              " (1.0, 'Swept from the Sea (1997)'),\n",
              " (1.0, 'Stranger in the House (1997)'),\n",
              " (1.0, 'Stonewall (1995)'),\n",
              " (1.0, 'Squeeze (1996)'),\n",
              " (1.0, 'Spirits of the Dead (Tre passi nel delirio) (1968)'),\n",
              " (1.0, 'Somebody to Love (1994)'),\n",
              " (1.0, 'So Dear to My Heart (1949)'),\n",
              " (1.0, 'Sliding Doors (1998)'),\n",
              " (1.0, 'Shooting Fish (1997)'),\n",
              " (1.0, 'Shadows (Cienie) (1988)'),\n",
              " (1.0, 'Secret Adventures of Tom Thumb, The (1993)'),\n",
              " (1.0, 'Scream of Stone (Schrei aus Stein) (1991)'),\n",
              " (1.0, 'Salut cousin! (1996)'),\n",
              " (1.0, 'Romper Stomper (1992)'),\n",
              " (1.0, 'Relative Fear (1994)'),\n",
              " (1.0, 'Quartier Mozart (1992)'),\n",
              " (1.0, 'Promise, The (Versprechen, Das) (1994)'),\n",
              " (1.0, 'Prefontaine (1997)'),\n",
              " (1.0, \"Pharaoh's Army (1995)\"),\n",
              " (1.0, 'Nosferatu a Venezia (1986)'),\n",
              " (1.0, 'Nina Takes a Lover (1994)'),\n",
              " (1.0, 'Niagara, Niagara (1997)'),\n",
              " (1.0, 'Mr. Jones (1993)'),\n",
              " (1.0, 'Mostro, Il (1994)'),\n",
              " (1.0, 'Modern Affair, A (1995)'),\n",
              " (1.0, 'Mighty, The (1998)'),\n",
              " (1.0, 'Metisse (Café au Lait) (1993)'),\n",
              " (1.0, 'Man from Down Under, The (1943)'),\n",
              " (1.0, 'Liebelei (1933)')]"
            ]
          },
          "metadata": {},
          "execution_count": 32
        }
      ]
    },
    {
      "cell_type": "code",
      "metadata": {
        "id": "1ipmvlb-xyq6",
        "colab": {
          "base_uri": "https://localhost:8080/"
        },
        "outputId": "e2870815-2c73-4861-e7c9-edc3ba4fafee"
      },
      "source": [
        "getRecommendedItems(preferences, item_similarities, '87')[0:30]"
      ],
      "execution_count": 33,
      "outputs": [
        {
          "output_type": "execute_result",
          "data": {
            "text/plain": [
              "[(5.0, \"What's Eating Gilbert Grape (1993)\"),\n",
              " (5.0, 'Vertigo (1958)'),\n",
              " (5.0, 'Usual Suspects, The (1995)'),\n",
              " (5.0, 'Toy Story (1995)'),\n",
              " (5.0, 'Titanic (1997)'),\n",
              " (5.0, 'Sword in the Stone, The (1963)'),\n",
              " (5.0, 'Stand by Me (1986)'),\n",
              " (5.0, 'Sling Blade (1996)'),\n",
              " (5.0, 'Silence of the Lambs, The (1991)'),\n",
              " (5.0, 'Shining, The (1980)'),\n",
              " (5.0, 'Shine (1996)'),\n",
              " (5.0, 'Sense and Sensibility (1995)'),\n",
              " (5.0, 'Scream (1996)'),\n",
              " (5.0, 'Rumble in the Bronx (1995)'),\n",
              " (5.0, 'Rock, The (1996)'),\n",
              " (5.0, 'Robin Hood: Prince of Thieves (1991)'),\n",
              " (5.0, 'Reservoir Dogs (1992)'),\n",
              " (5.0, 'Police Story 4: Project S (Chao ji ji hua) (1993)'),\n",
              " (5.0, 'House of the Spirits, The (1993)'),\n",
              " (5.0, 'Fresh (1994)'),\n",
              " (5.0, 'Denise Calls Up (1995)'),\n",
              " (5.0, 'Day the Sun Turned Cold, The (Tianguo niezi) (1994)'),\n",
              " (5.0, 'Before the Rain (Pred dozhdot) (1994)'),\n",
              " (5.0, 'Assignment, The (1997)'),\n",
              " (5.0, '1-900 (1994)'),\n",
              " (4.875, \"Ed's Next Move (1996)\"),\n",
              " (4.833333333333333, 'Anna (1996)'),\n",
              " (4.8, 'Dark City (1998)'),\n",
              " (4.75, 'Flower of My Secret, The (Flor de mi secreto, La) (1995)'),\n",
              " (4.75, 'Broken English (1996)')]"
            ]
          },
          "metadata": {},
          "execution_count": 33
        }
      ]
    },
    {
      "cell_type": "code",
      "metadata": {
        "scrolled": true,
        "id": "l-Iqlmebxyq9",
        "colab": {
          "base_uri": "https://localhost:8080/"
        },
        "outputId": "3fa18e81-8646-418c-84cb-53f8a4e98b9f"
      },
      "source": [
        "top_films = [(rating, films) for films, rating in preferences['87'].items() if rating == 5.0]\n",
        "pp.pprint(top_films)"
      ],
      "execution_count": 34,
      "outputs": [
        {
          "output_type": "stream",
          "name": "stdout",
          "text": [
            "[   (5.0, 'Jurassic Park (1993)'),\n",
            "    (5.0, 'Indiana Jones and the Last Crusade (1989)'),\n",
            "    (5.0, 'Good, The Bad and The Ugly, The (1966)'),\n",
            "    (5.0, 'Dead Poets Society (1989)'),\n",
            "    (5.0, 'M*A*S*H (1970)'),\n",
            "    (5.0, '2001: A Space Odyssey (1968)'),\n",
            "    (5.0, 'Four Weddings and a Funeral (1994)'),\n",
            "    (5.0, 'Prefontaine (1997)'),\n",
            "    (5.0, 'This Is Spinal Tap (1984)'),\n",
            "    (5.0, 'Cool Hand Luke (1967)'),\n",
            "    (5.0, 'True Lies (1994)'),\n",
            "    (5.0, 'Sleepless in Seattle (1993)'),\n",
            "    (5.0, 'Young Frankenstein (1974)'),\n",
            "    (5.0, 'Fugitive, The (1993)'),\n",
            "    (5.0, 'In the Line of Fire (1993)'),\n",
            "    (5.0, 'Speed (1994)'),\n",
            "    (5.0, 'Terminator 2: Judgment Day (1991)'),\n",
            "    (5.0, 'Shawshank Redemption, The (1994)'),\n",
            "    (5.0, 'Clear and Present Danger (1994)'),\n",
            "    (5.0, 'Dances with Wolves (1990)'),\n",
            "    (5.0, 'Adventures of Robin Hood, The (1938)'),\n",
            "    (5.0, 'Blues Brothers, The (1980)'),\n",
            "    (5.0, 'Babe (1995)'),\n",
            "    (5.0, 'Top Gun (1986)'),\n",
            "    (5.0, 'Get Shorty (1995)'),\n",
            "    (5.0, 'Wizard of Oz, The (1939)'),\n",
            "    (5.0, 'When Harry Met Sally... (1989)'),\n",
            "    (5.0, 'Star Trek IV: The Voyage Home (1986)'),\n",
            "    (5.0, 'Net, The (1995)'),\n",
            "    (5.0, 'Fargo (1996)'),\n",
            "    (5.0, 'Stargate (1994)'),\n",
            "    (5.0, 'Groundhog Day (1993)'),\n",
            "    (5.0, 'Bridge on the River Kwai, The (1957)'),\n",
            "    (5.0, 'Star Trek: The Wrath of Khan (1982)'),\n",
            "    (5.0, 'Bananas (1971)'),\n",
            "    (5.0, 'French Kiss (1995)'),\n",
            "    (5.0, 'Empire Strikes Back, The (1980)'),\n",
            "    (5.0, 'Return of the Jedi (1983)'),\n",
            "    (5.0, 'Butch Cassidy and the Sundance Kid (1969)'),\n",
            "    (5.0, 'Star Wars (1977)'),\n",
            "    (5.0, 'Magnificent Seven, The (1954)'),\n",
            "    (5.0, 'Back to the Future (1985)'),\n",
            "    (5.0, 'Terminator, The (1984)'),\n",
            "    (5.0, 'Fish Called Wanda, A (1988)'),\n",
            "    (5.0, \"It's a Wonderful Life (1946)\"),\n",
            "    (5.0, 'Renaissance Man (1994)'),\n",
            "    (5.0, 'American President, The (1995)'),\n",
            "    (5.0, 'I.Q. (1994)'),\n",
            "    (5.0, 'While You Were Sleeping (1995)'),\n",
            "    (5.0, 'Independence Day (ID4) (1996)'),\n",
            "    (5.0, 'Raiders of the Lost Ark (1981)'),\n",
            "    (5.0, 'Quiet Man, The (1952)'),\n",
            "    (5.0, 'Sting, The (1973)'),\n",
            "    (5.0, 'Days of Thunder (1990)')]\n"
          ]
        }
      ]
    },
    {
      "cell_type": "markdown",
      "source": [
        "При визуальном сравнении видно, что практически нет общих фильмов между первым набором рекомендованных фильмов и вторым набором фильмов, оценённых пользователем на 5.0."
      ],
      "metadata": {
        "id": "zP5D6m6Ns8Vb"
      }
    }
  ]
}