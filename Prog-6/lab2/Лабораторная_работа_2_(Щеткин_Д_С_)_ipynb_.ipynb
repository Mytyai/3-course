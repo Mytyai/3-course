{
  "nbformat": 4,
  "nbformat_minor": 0,
  "metadata": {
    "colab": {
      "provenance": []
    },
    "kernelspec": {
      "name": "python3",
      "display_name": "Python 3"
    },
    "language_info": {
      "name": "python"
    }
  },
  "cells": [
    {
      "cell_type": "markdown",
      "source": [
        "# Лабораторная работа 2\n",
        "\n",
        "## Выполнил(а): __Щеткин Дмитрий Сергеевич__\n",
        "\n",
        "*Группа 2.1*"
      ],
      "metadata": {
        "id": "Txfcn2uZZmwp"
      }
    },
    {
      "cell_type": "code",
      "source": [
        "import pandas as pd"
      ],
      "metadata": {
        "id": "Kx-kaCG0feEB"
      },
      "execution_count": null,
      "outputs": []
    },
    {
      "cell_type": "code",
      "source": [
        "train = pd.read_csv('train.csv')\n",
        "print(train.head())"
      ],
      "metadata": {
        "colab": {
          "base_uri": "https://localhost:8080/"
        },
        "id": "Kx8uEd903NJo",
        "outputId": "fe30dae1-3d24-4631-c84e-1891d202ea53",
        "collapsed": true
      },
      "execution_count": null,
      "outputs": [
        {
          "output_type": "stream",
          "name": "stdout",
          "text": [
            "   PassengerId  Survived  Pclass  \\\n",
            "0            1         0       3   \n",
            "1            2         1       1   \n",
            "2            3         1       3   \n",
            "3            4         1       1   \n",
            "4            5         0       3   \n",
            "\n",
            "                                                Name     Sex   Age  SibSp  \\\n",
            "0                            Braund, Mr. Owen Harris    male  22.0      1   \n",
            "1  Cumings, Mrs. John Bradley (Florence Briggs Th...  female  38.0      1   \n",
            "2                             Heikkinen, Miss. Laina  female  26.0      0   \n",
            "3       Futrelle, Mrs. Jacques Heath (Lily May Peel)  female  35.0      1   \n",
            "4                           Allen, Mr. William Henry    male  35.0      0   \n",
            "\n",
            "   Parch            Ticket     Fare Cabin Embarked  \n",
            "0      0         A/5 21171   7.2500   NaN        S  \n",
            "1      0          PC 17599  71.2833   C85        C  \n",
            "2      0  STON/O2. 3101282   7.9250   NaN        S  \n",
            "3      0            113803  53.1000  C123        S  \n",
            "4      0            373450   8.0500   NaN        S  \n"
          ]
        }
      ]
    },
    {
      "cell_type": "code",
      "source": [
        "# Сколько на параходе ехало мужчин и женщин\n",
        "male = train[train['Sex'] == 'male'].shape[0]\n",
        "female = train[train['Sex'] == 'female'].shape[0]\n",
        "print(male, female)"
      ],
      "metadata": {
        "colab": {
          "base_uri": "https://localhost:8080/"
        },
        "id": "vmGeO6mVhkd8",
        "outputId": "2fbb87c8-4461-43f8-ad47-539e4b4c5373"
      },
      "execution_count": null,
      "outputs": [
        {
          "output_type": "stream",
          "name": "stdout",
          "text": [
            "577 314\n"
          ]
        }
      ]
    },
    {
      "cell_type": "code",
      "source": [
        "# Количество пассажиров, севших в различных портах\n",
        "embarked = train['Embarked'].value_counts()\n",
        "print(embarked.get('S', 0), embarked.get('C', 0), embarked.get('Q', 0))"
      ],
      "metadata": {
        "colab": {
          "base_uri": "https://localhost:8080/"
        },
        "id": "nyLG8TWajEf_",
        "outputId": "d2bbe443-826f-4c48-8df8-76d7621b3903"
      },
      "execution_count": null,
      "outputs": [
        {
          "output_type": "stream",
          "name": "stdout",
          "text": [
            "644 168 77\n"
          ]
        }
      ]
    },
    {
      "cell_type": "code",
      "source": [
        "# Доля погибших (число и процент)\n",
        "dead = train['Survived'].value_counts()[0]\n",
        "dead_percentage = (dead / train.shape[0]) * 100\n",
        "print(dead, round(dead_percentage, 2))"
      ],
      "metadata": {
        "colab": {
          "base_uri": "https://localhost:8080/"
        },
        "id": "T5G5s7IukIQS",
        "outputId": "9f61af58-bc2c-4bec-90ba-e40d9194d82d"
      },
      "execution_count": null,
      "outputs": [
        {
          "output_type": "stream",
          "name": "stdout",
          "text": [
            "549 61.62\n"
          ]
        }
      ]
    },
    {
      "cell_type": "code",
      "source": [
        "# Доли пассажиров по классам\n",
        "pclass = train['Pclass'].value_counts(normalize=True)\n",
        "print(round(pclass[1], 2), round(pclass[2], 2), round(pclass[3], 2))"
      ],
      "metadata": {
        "colab": {
          "base_uri": "https://localhost:8080/"
        },
        "id": "-u2fa_nvkftC",
        "outputId": "cc7aa5e6-df18-4f02-d517-5cbb237b43b4"
      },
      "execution_count": null,
      "outputs": [
        {
          "output_type": "stream",
          "name": "stdout",
          "text": [
            "0.24 0.21 0.55\n"
          ]
        }
      ]
    },
    {
      "cell_type": "code",
      "source": [
        "# Коэффициент корреляции Пирсона между SibSp и Parch\n",
        "sibsp_parch = train[['SibSp', 'Parch']].corr().iloc[0, 1]\n",
        "print(round(sibsp_parch, 2))"
      ],
      "metadata": {
        "colab": {
          "base_uri": "https://localhost:8080/"
        },
        "id": "att226NOkx5M",
        "outputId": "f53fe937-96ea-45f6-da9e-01ca210fdf41"
      },
      "execution_count": null,
      "outputs": [
        {
          "output_type": "stream",
          "name": "stdout",
          "text": [
            "0.41\n"
          ]
        }
      ]
    },
    {
      "cell_type": "code",
      "source": [
        "# Корреляция возраста и выживания\n",
        "age_survived = train[['Age', 'Survived']].corr().iloc[0, 1]\n",
        "print(round(age_survived, 2))\n",
        "\n",
        "# Корреляция пола и выживания\n",
        "train['Sex_binary'] = train['Sex'].map({'male': 0, 'female': 1})\n",
        "sex_survived = train[['Sex_binary', 'Survived']].corr().iloc[0, 1]\n",
        "print(round(sex_survived, 2))\n",
        "\n",
        "# Корреляция класса и выживания\n",
        "pclass_survived = train[['Pclass', 'Survived']].corr().iloc[0, 1]\n",
        "print(round(pclass_survived, 2))"
      ],
      "metadata": {
        "colab": {
          "base_uri": "https://localhost:8080/"
        },
        "id": "OooS7ZmJk-Xh",
        "outputId": "97984d17-8377-4ab9-cf79-ad328d78407c"
      },
      "execution_count": null,
      "outputs": [
        {
          "output_type": "stream",
          "name": "stdout",
          "text": [
            "-0.08\n",
            "0.54\n",
            "-0.34\n"
          ]
        }
      ]
    },
    {
      "cell_type": "code",
      "source": [
        "# Средний возраст пассажиров, медиана, минимальный и максимальный возраст\n",
        "mean_age = train['Age'].mean()\n",
        "median_age = train['Age'].median()\n",
        "min_age = train['Age'].min()\n",
        "max_age = train['Age'].max()\n",
        "print(round(mean_age, 2), median_age, min_age, max_age)"
      ],
      "metadata": {
        "colab": {
          "base_uri": "https://localhost:8080/"
        },
        "id": "D8lalBnDlXdD",
        "outputId": "271b171c-f6b3-4437-88d2-0d1e067b09d3"
      },
      "execution_count": null,
      "outputs": [
        {
          "output_type": "stream",
          "name": "stdout",
          "text": [
            "29.7 28.0 0.42 80.0\n"
          ]
        }
      ]
    },
    {
      "cell_type": "code",
      "source": [
        "# Средняя цена за билет, медиана, минимальная и максимальная цены\n",
        "mean_fare = train['Fare'].mean()\n",
        "median_fare = train['Fare'].median()\n",
        "min_fare = train['Fare'].min()\n",
        "max_fare = train['Fare'].max()\n",
        "print(round(mean_fare, 2), median_fare, min_fare, max_fare)"
      ],
      "metadata": {
        "colab": {
          "base_uri": "https://localhost:8080/"
        },
        "id": "-gne-ioPln2h",
        "outputId": "2c2309a2-c2b3-46bb-b741-be24512d6592"
      },
      "execution_count": null,
      "outputs": [
        {
          "output_type": "stream",
          "name": "stdout",
          "text": [
            "32.2 14.4542 0.0 512.3292\n"
          ]
        }
      ]
    },
    {
      "cell_type": "code",
      "source": [
        "# Самое популярное мужское имя\n",
        "train['First_Name'] = train['Name'].apply(lambda x: x.split('. ')[1].split(' ')[0])\n",
        "male_name = train[train['Sex'] == 'male']['First_Name'].mode()[0]\n",
        "print(male_name)"
      ],
      "metadata": {
        "colab": {
          "base_uri": "https://localhost:8080/"
        },
        "id": "VzjVvkLFmCoy",
        "outputId": "200534d7-ad56-400e-f4aa-94aea6e0f234"
      },
      "execution_count": null,
      "outputs": [
        {
          "output_type": "stream",
          "name": "stdout",
          "text": [
            "William\n"
          ]
        }
      ]
    },
    {
      "cell_type": "code",
      "source": [
        "# Самые популярные мужское и женское имена людей, старше 15 лет\n",
        "train_15 = train[train['Age'] > 15]\n",
        "male_name_15 = train_15[train_15['Sex'] == 'male']['First_Name'].mode()[0]\n",
        "female_name_15 = train_15[train_15['Sex'] == 'female']['First_Name'].mode()[0]\n",
        "print(male_name_15, female_name_15)"
      ],
      "metadata": {
        "colab": {
          "base_uri": "https://localhost:8080/"
        },
        "id": "gpfIb9SlmdSZ",
        "outputId": "cd88732f-bb20-4ef2-99f2-2613bba50605"
      },
      "execution_count": null,
      "outputs": [
        {
          "output_type": "stream",
          "name": "stdout",
          "text": [
            "William William\n"
          ]
        }
      ]
    }
  ]
}