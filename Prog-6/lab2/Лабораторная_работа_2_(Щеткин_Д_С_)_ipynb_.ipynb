{
  "nbformat": 4,
  "nbformat_minor": 0,
  "metadata": {
    "colab": {
      "provenance": []
    },
    "kernelspec": {
      "name": "python3",
      "display_name": "Python 3"
    },
    "language_info": {
      "name": "python"
    }
  },
  "cells": [
    {
      "cell_type": "markdown",
      "source": [
        "# Лабораторная работа 2\n",
        "\n",
        "## Выполнил(а): __Щеткин Дмитрий Сергеевич__\n",
        "\n",
        "*Группа 2.1*"
      ],
      "metadata": {
        "id": "Txfcn2uZZmwp"
      }
    },
    {
      "cell_type": "code",
      "source": [
        "import pandas as pd"
      ],
      "metadata": {
        "id": "Kx-kaCG0feEB"
      },
      "execution_count": 1,
      "outputs": []
    },
    {
      "cell_type": "code",
      "source": [
        "train = pd.read_csv('train.csv')\n",
        "print(train.head())"
      ],
      "metadata": {
        "colab": {
          "base_uri": "https://localhost:8080/"
        },
        "id": "Kx8uEd903NJo",
        "outputId": "66f91aa6-b6e9-418a-cead-0cb9b674417e",
        "collapsed": true
      },
      "execution_count": 2,
      "outputs": [
        {
          "output_type": "stream",
          "name": "stdout",
          "text": [
            "   PassengerId  Survived  Pclass  \\\n",
            "0            1         0       3   \n",
            "1            2         1       1   \n",
            "2            3         1       3   \n",
            "3            4         1       1   \n",
            "4            5         0       3   \n",
            "\n",
            "                                                Name     Sex   Age  SibSp  \\\n",
            "0                            Braund, Mr. Owen Harris    male  22.0      1   \n",
            "1  Cumings, Mrs. John Bradley (Florence Briggs Th...  female  38.0      1   \n",
            "2                             Heikkinen, Miss. Laina  female  26.0      0   \n",
            "3       Futrelle, Mrs. Jacques Heath (Lily May Peel)  female  35.0      1   \n",
            "4                           Allen, Mr. William Henry    male  35.0      0   \n",
            "\n",
            "   Parch            Ticket     Fare Cabin Embarked  \n",
            "0      0         A/5 21171   7.2500   NaN        S  \n",
            "1      0          PC 17599  71.2833   C85        C  \n",
            "2      0  STON/O2. 3101282   7.9250   NaN        S  \n",
            "3      0            113803  53.1000  C123        S  \n",
            "4      0            373450   8.0500   NaN        S  \n"
          ]
        }
      ]
    },
    {
      "cell_type": "code",
      "source": [
        "# Сколько на параходе ехало мужчин и женщин\n",
        "male = train[train['Sex'] == 'male'].shape[0]\n",
        "female = train[train['Sex'] == 'female'].shape[0]\n",
        "print(male, female)"
      ],
      "metadata": {
        "colab": {
          "base_uri": "https://localhost:8080/"
        },
        "id": "vmGeO6mVhkd8",
        "outputId": "2d480c21-79b7-458d-dfa3-3ba05484a50a"
      },
      "execution_count": 3,
      "outputs": [
        {
          "output_type": "stream",
          "name": "stdout",
          "text": [
            "577 314\n"
          ]
        }
      ]
    },
    {
      "cell_type": "code",
      "source": [
        "# Количество пассажиров, севших в различных портах\n",
        "embarked = train['Embarked'].value_counts()\n",
        "print(embarked.get('S', 0), embarked.get('C', 0), embarked.get('Q', 0))"
      ],
      "metadata": {
        "colab": {
          "base_uri": "https://localhost:8080/"
        },
        "id": "nyLG8TWajEf_",
        "outputId": "0aaec2c3-789e-41ee-cecd-bc1f8213d968"
      },
      "execution_count": 4,
      "outputs": [
        {
          "output_type": "stream",
          "name": "stdout",
          "text": [
            "644 168 77\n"
          ]
        }
      ]
    },
    {
      "cell_type": "code",
      "source": [
        "# Доля погибших (число и процент)\n",
        "dead = train['Survived'].value_counts()[0]\n",
        "dead_percentage = (dead / train.shape[0]) * 100\n",
        "print(dead, round(dead_percentage, 2))"
      ],
      "metadata": {
        "colab": {
          "base_uri": "https://localhost:8080/"
        },
        "id": "T5G5s7IukIQS",
        "outputId": "9604980a-024e-4475-e7e3-c4e4030fce6a"
      },
      "execution_count": 5,
      "outputs": [
        {
          "output_type": "stream",
          "name": "stdout",
          "text": [
            "549 61.62\n"
          ]
        }
      ]
    },
    {
      "cell_type": "code",
      "source": [
        "# Доли пассажиров по классам\n",
        "pclass = train['Pclass'].value_counts(normalize=True)\n",
        "print(round(pclass[1], 2), round(pclass[2], 2), round(pclass[3], 2))"
      ],
      "metadata": {
        "colab": {
          "base_uri": "https://localhost:8080/"
        },
        "id": "-u2fa_nvkftC",
        "outputId": "b160b696-d936-4a6c-d532-ab5eeb321efa"
      },
      "execution_count": 6,
      "outputs": [
        {
          "output_type": "stream",
          "name": "stdout",
          "text": [
            "0.24 0.21 0.55\n"
          ]
        }
      ]
    },
    {
      "cell_type": "code",
      "source": [
        "# Коэффициент корреляции Пирсона между SibSp и Parch\n",
        "sibsp_parch = train[['SibSp', 'Parch']].corr().iloc[0, 1]\n",
        "print(round(sibsp_parch, 2))"
      ],
      "metadata": {
        "colab": {
          "base_uri": "https://localhost:8080/"
        },
        "id": "att226NOkx5M",
        "outputId": "e7ae6f84-0c9d-4b1d-cd8e-7a9664a262e3"
      },
      "execution_count": 7,
      "outputs": [
        {
          "output_type": "stream",
          "name": "stdout",
          "text": [
            "0.41\n"
          ]
        }
      ]
    },
    {
      "cell_type": "code",
      "source": [
        "# Корреляция возраста и выживания\n",
        "age_survived = train[['Age', 'Survived']].corr().iloc[0, 1]\n",
        "print(round(age_survived, 2))\n",
        "\n",
        "# Корреляция пола и выживания\n",
        "train['Sex_binary'] = train['Sex'].map({'male': 0, 'female': 1})\n",
        "sex_survived = train[['Sex_binary', 'Survived']].corr().iloc[0, 1]\n",
        "print(round(sex_survived, 2))\n",
        "\n",
        "# Корреляция класса и выживания\n",
        "pclass_survived = train[['Pclass', 'Survived']].corr().iloc[0, 1]\n",
        "print(round(pclass_survived, 2))"
      ],
      "metadata": {
        "colab": {
          "base_uri": "https://localhost:8080/"
        },
        "id": "OooS7ZmJk-Xh",
        "outputId": "3c2a022d-1f0b-420a-c8f2-d1cbdf916af2"
      },
      "execution_count": 8,
      "outputs": [
        {
          "output_type": "stream",
          "name": "stdout",
          "text": [
            "-0.08\n",
            "0.54\n",
            "-0.34\n"
          ]
        }
      ]
    },
    {
      "cell_type": "code",
      "source": [
        "# Средний возраст пассажиров, медиана, минимальный и максимальный возраст\n",
        "mean_age = train['Age'].mean()\n",
        "median_age = train['Age'].median()\n",
        "min_age = train['Age'].min()\n",
        "max_age = train['Age'].max()\n",
        "print(round(mean_age, 2), median_age, min_age, max_age)"
      ],
      "metadata": {
        "colab": {
          "base_uri": "https://localhost:8080/"
        },
        "id": "D8lalBnDlXdD",
        "outputId": "2f66b84a-126a-4c3a-e499-954610ddfc31"
      },
      "execution_count": 9,
      "outputs": [
        {
          "output_type": "stream",
          "name": "stdout",
          "text": [
            "29.7 28.0 0.42 80.0\n"
          ]
        }
      ]
    },
    {
      "cell_type": "code",
      "source": [
        "# Средняя цена за билет, медиана, минимальная и максимальная цены\n",
        "mean_fare = train['Fare'].mean()\n",
        "median_fare = train['Fare'].median()\n",
        "min_fare = train['Fare'].min()\n",
        "max_fare = train['Fare'].max()\n",
        "print(round(mean_fare, 2), median_fare, min_fare, max_fare)"
      ],
      "metadata": {
        "colab": {
          "base_uri": "https://localhost:8080/"
        },
        "id": "-gne-ioPln2h",
        "outputId": "f5aa036f-9bd0-4b63-8677-8e2c6dd8b464"
      },
      "execution_count": 10,
      "outputs": [
        {
          "output_type": "stream",
          "name": "stdout",
          "text": [
            "32.2 14.4542 0.0 512.3292\n"
          ]
        }
      ]
    },
    {
      "cell_type": "code",
      "source": [
        "# Самое популярное мужское имя\n",
        "train['First_Name'] = train['Name'].str.split(', ').str[1].str.split('.').str[1].str.strip()\n",
        "male_name = train[train['Sex'] == 'male']['First_Name'].mode()[0]\n",
        "print(male_name)"
      ],
      "metadata": {
        "colab": {
          "base_uri": "https://localhost:8080/"
        },
        "id": "VzjVvkLFmCoy",
        "outputId": "96391d21-8e8e-4b0f-c1f8-6bb6097d0908"
      },
      "execution_count": 11,
      "outputs": [
        {
          "output_type": "stream",
          "name": "stdout",
          "text": [
            "John\n"
          ]
        }
      ]
    },
    {
      "cell_type": "code",
      "source": [
        "# Самые популярные мужское и женское имена людей, старше 15 лет\n",
        "train_15 = train[train['Age'] > 15]\n",
        "male_name_15 = train_15[train_15['Sex'] == 'male']['First_Name'].mode()[0]\n",
        "female_name_15 = train_15[train_15['Sex'] == 'female']['First_Name'].mode()[0]\n",
        "print(male_name_15, female_name_15)"
      ],
      "metadata": {
        "colab": {
          "base_uri": "https://localhost:8080/"
        },
        "id": "gpfIb9SlmdSZ",
        "outputId": "0d0ed065-d9f8-49a5-9c94-5e9a2e72d29f"
      },
      "execution_count": 12,
      "outputs": [
        {
          "output_type": "stream",
          "name": "stdout",
          "text": [
            "William Anna Sofia\n"
          ]
        }
      ]
    }
  ]
}